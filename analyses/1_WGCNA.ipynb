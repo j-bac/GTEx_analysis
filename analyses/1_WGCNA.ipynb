{
 "cells": [
  {
   "cell_type": "code",
   "execution_count": 2,
   "metadata": {},
   "outputs": [],
   "source": [
    "import pandas as pd\n",
    "import pathlib\n",
    "import numpy as np\n",
    "import scipy\n",
    "import scanpy as sc\n",
    "#import pywgcna\n",
    "import matplotlib.pyplot as plt\n",
    "\n",
    "import preprocessing"
   ]
  },
  {
   "cell_type": "code",
   "execution_count": 3,
   "metadata": {},
   "outputs": [],
   "source": [
    "adata = preprocessing.load_rnaseq_sample_selected_tissues_anndata(\n",
    "    X_path=\"../results/rnaseq_sample_selected_tissues.mm\",\n",
    "    genes_rows_path=\"../results/rnaseq_sample_selected_tissues_genes_rows.csv\",\n",
    "    samples_columns_path=\"../results/rnaseq_sample_selected_tissues_samples_columns.csv\",\n",
    "    samples_metadata_path=\"../results/rnaseq_sample_selected_tissues_metadata.csv\",\n",
    ")"
   ]
  }
 ],
 "metadata": {
  "kernelspec": {
   "display_name": "gtex",
   "language": "python",
   "name": "python3"
  },
  "language_info": {
   "codemirror_mode": {
    "name": "ipython",
    "version": 3
   },
   "file_extension": ".py",
   "mimetype": "text/x-python",
   "name": "python",
   "nbconvert_exporter": "python",
   "pygments_lexer": "ipython3",
   "version": "3.10.14"
  }
 },
 "nbformat": 4,
 "nbformat_minor": 2
}
